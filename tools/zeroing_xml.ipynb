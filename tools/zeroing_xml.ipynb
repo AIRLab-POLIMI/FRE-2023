{
 "cells": [
  {
   "cell_type": "code",
   "execution_count": 6,
   "metadata": {},
   "outputs": [],
   "source": [
    "import xml.etree.ElementTree as ET\n",
    "\n",
    "# Parse the XML file\n",
    "tree = ET.parse('original_xml.txt')\n",
    "root = tree.getroot()\n",
    "\n",
    "# Loop through all include elements\n",
    "for include in root.findall('include'):\n",
    "    # Get the pose element\n",
    "    #pose = include.find('pose')\n",
    "    static_tag = include.find('static')\n",
    "    # Split the pose string into a list of values\n",
    "    #pose_values = pose.text.split()\n",
    "    # Set the third value to zero\n",
    "    #pose_values[2] = '0.0'\n",
    "    # Join the values back into a string and set the new text for the pose element\n",
    "    #pose.text = ' '.join(pose_values)\n",
    "    static_tag.text='false'\n",
    "\n",
    "# Write the modified XML back to the file\n",
    "tree.write('file.xml')\n"
   ]
  },
  {
   "cell_type": "code",
   "execution_count": null,
   "metadata": {},
   "outputs": [],
   "source": []
  }
 ],
 "metadata": {
  "kernelspec": {
   "display_name": "Python 3",
   "language": "python",
   "name": "python3"
  },
  "language_info": {
   "codemirror_mode": {
    "name": "ipython",
    "version": 3
   },
   "file_extension": ".py",
   "mimetype": "text/x-python",
   "name": "python",
   "nbconvert_exporter": "python",
   "pygments_lexer": "ipython3",
   "version": "3.10.6"
  },
  "orig_nbformat": 4
 },
 "nbformat": 4,
 "nbformat_minor": 2
}
